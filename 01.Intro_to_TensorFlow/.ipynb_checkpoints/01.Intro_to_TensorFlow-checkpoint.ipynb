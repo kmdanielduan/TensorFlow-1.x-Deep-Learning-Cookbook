{
 "cells": [
  {
   "cell_type": "markdown",
   "metadata": {
    "colab_type": "text",
    "id": "khcLgQQC2O23"
   },
   "source": [
    "# TensorFlow Core"
   ]
  },
  {
   "cell_type": "code",
   "execution_count": 105,
   "metadata": {
    "colab": {
     "base_uri": "https://localhost:8080/",
     "height": 122
    },
    "colab_type": "code",
    "executionInfo": {
     "elapsed": 45099,
     "status": "ok",
     "timestamp": 1559209374733,
     "user": {
      "displayName": "Yawen Duan",
      "photoUrl": "",
      "userId": "09410623314339653119"
     },
     "user_tz": -480
    },
    "id": "n_Gw0hM2HivY",
    "outputId": "27cb19b7-93c9-45ce-c908-a819a2e1fbab"
   },
   "outputs": [
    {
     "name": "stdout",
     "output_type": "stream",
     "text": [
      "Go to this URL in a browser: https://accounts.google.com/o/oauth2/auth?client_id=947318989803-6bn6qk8qdgf4n4g3pfee6491hc0brc4i.apps.googleusercontent.com&redirect_uri=urn%3Aietf%3Awg%3Aoauth%3A2.0%3Aoob&scope=email%20https%3A%2F%2Fwww.googleapis.com%2Fauth%2Fdocs.test%20https%3A%2F%2Fwww.googleapis.com%2Fauth%2Fdrive%20https%3A%2F%2Fwww.googleapis.com%2Fauth%2Fdrive.photos.readonly%20https%3A%2F%2Fwww.googleapis.com%2Fauth%2Fpeopleapi.readonly&response_type=code\n",
      "\n",
      "Enter your authorization code:\n",
      "··········\n",
      "Mounted at /content/gdrive/\n"
     ]
    }
   ],
   "source": [
    "# connect to the google drive\n",
    "from google.colab import drive\n",
    "drive.mount('/content/gdrive/')"
   ]
  },
  {
   "cell_type": "markdown",
   "metadata": {
    "colab_type": "text",
    "id": "TMYzmWgM4Mjz"
   },
   "source": [
    "## 0 Preparation"
   ]
  },
  {
   "cell_type": "code",
   "execution_count": 106,
   "metadata": {
    "colab": {
     "base_uri": "https://localhost:8080/",
     "height": 71
    },
    "colab_type": "code",
    "executionInfo": {
     "elapsed": 7138,
     "status": "ok",
     "timestamp": 1559209391991,
     "user": {
      "displayName": "Yawen Duan",
      "photoUrl": "",
      "userId": "09410623314339653119"
     },
     "user_tz": -480
    },
    "id": "9TZp4PQb32Or",
    "outputId": "318849a3-5a6d-4867-cf42-4fff4143ade3"
   },
   "outputs": [
    {
     "name": "stdout",
     "output_type": "stream",
     "text": [
      "/content/gdrive/My Drive/TensorFlow_Learning/TensorFlow-Core/01.Intro_to_TensorFlow\n",
      "01.Intro_to_TensorFlow.ipynb\n"
     ]
    }
   ],
   "source": [
    "# change the current directory\n",
    "import os\n",
    "os.chdir(\"/content/gdrive/My Drive/TensorFlow_Learning/TensorFlow-Core/01.Intro_to_TensorFlow\")\n",
    "!pwd\n",
    "!ls"
   ]
  },
  {
   "cell_type": "markdown",
   "metadata": {
    "colab_type": "text",
    "id": "71lz_hcf481T"
   },
   "source": [
    "## 1.1 Introduction\n",
    "TensorFlow GitHub Repository: https://github.com/tensorflow/tensorflow\n",
    "\n",
    "---"
   ]
  },
  {
   "cell_type": "markdown",
   "metadata": {
    "colab_type": "text",
    "id": "qhsG7HVW5AB7"
   },
   "source": [
    "## 1.2 TensorFlow Installation\n",
    "Please Google it\n",
    "\n",
    "Update the version of TensorFlow:\n",
    "\n",
    "`pip install --upgrade tensorflow`\n",
    "\n",
    "---"
   ]
  },
  {
   "cell_type": "markdown",
   "metadata": {
    "colab_type": "text",
    "id": "QtawTB6y2cqb"
   },
   "source": [
    "## 1.3 Hello World"
   ]
  },
  {
   "cell_type": "code",
   "execution_count": 1,
   "metadata": {
    "colab": {},
    "colab_type": "code",
    "id": "oAz8_i422FHx"
   },
   "outputs": [],
   "source": [
    "# import tensorflow\n",
    "import tensorflow as tf"
   ]
  },
  {
   "cell_type": "code",
   "execution_count": 2,
   "metadata": {
    "colab": {},
    "colab_type": "code",
    "id": "F-W3zIy42Vc5"
   },
   "outputs": [],
   "source": [
    "# tf.constant\n",
    "message = tf.constant('Hello World!')"
   ]
  },
  {
   "cell_type": "code",
   "execution_count": 3,
   "metadata": {
    "colab": {
     "base_uri": "https://localhost:8080/",
     "height": 34
    },
    "colab_type": "code",
    "executionInfo": {
     "elapsed": 866,
     "status": "ok",
     "timestamp": 1559187290136,
     "user": {
      "displayName": "Yawen Duan",
      "photoUrl": "",
      "userId": "09410623314339653119"
     },
     "user_tz": -480
    },
    "id": "byg_wf063sRY",
    "outputId": "6763a7bf-a087-45cb-ccad-167105aa6587"
   },
   "outputs": [
    {
     "name": "stdout",
     "output_type": "stream",
     "text": [
      "Hello World!\n"
     ]
    }
   ],
   "source": [
    "# define tf.Session() as sess and run the Session\n",
    "with tf.Session() as sess:\n",
    "  print(sess.run(message).decode())\n",
    "  \n",
    "# sess.run(message) gets b'Hello World!'"
   ]
  },
  {
   "cell_type": "markdown",
   "metadata": {
    "colab_type": "text",
    "id": "2broFgCFAjWx"
   },
   "source": [
    "## 1.4 Graphs and Sessions\n",
    "\n",
    "TensorFlow uses a **dataflow graph** to represent your computation in terms of the dependencies between individual operations. This leads to a low-level programming model in which you first define the dataflow graph, then create a TensorFlow **session** to run parts of the graph across a set of local and remote devices.\n",
    "\n",
    "**Dataflow** is a common programming model for parallel computing. In a dataflow graph, the nodes represent units of computation(Operation Object), and the edges represent the data consumed or produced by a computation. Each node can have zero or more inputs, but only has one output.\n",
    "\n",
    "We use the **Session** object to execute the dataflow graph."
   ]
  },
  {
   "cell_type": "code",
   "execution_count": 4,
   "metadata": {
    "colab": {},
    "colab_type": "code",
    "id": "rJ5mFaYPxlNG"
   },
   "outputs": [],
   "source": [
    "# import tensorflow\n",
    "import tensorflow as tf\n",
    "# define a dataflow graph of adding two tensors\n",
    "v_1 = tf.constant([1,2,3,4])\n",
    "v_2 = tf.constant([2,1,5,3])\n",
    "v_add = tf.add(v_1,v_2)\n",
    "# or v_add = v_1 + v_2"
   ]
  },
  {
   "cell_type": "code",
   "execution_count": 5,
   "metadata": {
    "colab": {
     "base_uri": "https://localhost:8080/",
     "height": 34
    },
    "colab_type": "code",
    "executionInfo": {
     "elapsed": 3364,
     "status": "ok",
     "timestamp": 1559200284560,
     "user": {
      "displayName": "Yawen Duan",
      "photoUrl": "",
      "userId": "09410623314339653119"
     },
     "user_tz": -480
    },
    "id": "mRWyAN7S5M5-",
    "outputId": "4f46a1e2-cee5-4567-8bfa-224cae0cfc73"
   },
   "outputs": [
    {
     "name": "stdout",
     "output_type": "stream",
     "text": [
      "[3 3 8 7]\n",
      "[3 3 8 7]\n"
     ]
    }
   ],
   "source": [
    "# execute the graph in a session 1\n",
    "with tf.Session() as sess:\n",
    "  print(sess.run(v_add))\n",
    "  \n",
    "# execute the graph in a session 2\n",
    "sess = tf.Session(config=tf.ConfigProto(log_device_placement=True))\n",
    "print(sess.run(v_add))\n",
    "sess.close()"
   ]
  },
  {
   "cell_type": "markdown",
   "metadata": {
    "colab_type": "text",
    "id": "SYDq7M13mVb2"
   },
   "source": [
    "We use the `run()` of `tf.Session()` to execute the graph. The resulting value is `fetches`.\n",
    "\n",
    "```\n",
    "run(fetches,feed_dict=None,options=None,run_metadata)\n",
    "```\n"
   ]
  },
  {
   "cell_type": "code",
   "execution_count": 6,
   "metadata": {
    "colab": {
     "base_uri": "https://localhost:8080/",
     "height": 54
    },
    "colab_type": "code",
    "executionInfo": {
     "elapsed": 1658,
     "status": "ok",
     "timestamp": 1559200781034,
     "user": {
      "displayName": "Yawen Duan",
      "photoUrl": "",
      "userId": "09410623314339653119"
     },
     "user_tz": -480
    },
    "id": "ftwZcSsAAlrM",
    "outputId": "50a553c5-e0ff-4ab3-f59b-f44d4ad4591c"
   },
   "outputs": [
    {
     "name": "stdout",
     "output_type": "stream",
     "text": [
      "[array([1, 2, 3, 4], dtype=int32), array([2, 1, 5, 3], dtype=int32), array([3, 3, 8, 7], dtype=int32)]\n"
     ]
    }
   ],
   "source": [
    "# getting multiple values\n",
    "with tf.Session() as sess:\n",
    "  print(sess.run([v_1,v_2,v_add]))"
   ]
  },
  {
   "cell_type": "markdown",
   "metadata": {
    "colab_type": "text",
    "id": "7QZqNOJokHHz"
   },
   "source": [
    "**Interactive Session** in Jupyter Notebook and Python shell. We could use `eval()` to return the tensor objects directly instead of explicitly returning sessions."
   ]
  },
  {
   "cell_type": "code",
   "execution_count": 7,
   "metadata": {
    "colab": {
     "base_uri": "https://localhost:8080/",
     "height": 34
    },
    "colab_type": "code",
    "executionInfo": {
     "elapsed": 1360,
     "status": "ok",
     "timestamp": 1559200994857,
     "user": {
      "displayName": "Yawen Duan",
      "photoUrl": "",
      "userId": "09410623314339653119"
     },
     "user_tz": -480
    },
    "id": "zrjjteDsjvs1",
    "outputId": "6fefa33f-c99f-4cdb-e289-e0164363ea71"
   },
   "outputs": [
    {
     "name": "stdout",
     "output_type": "stream",
     "text": [
      "[3 3 8 7]\n"
     ]
    }
   ],
   "source": [
    "sess = tf.InteractiveSession()\n",
    "\n",
    "v_1 = tf.constant([1,2,3,4])\n",
    "v_2 = tf.constant([2,1,5,3])\n",
    "v_add = v_1 + v_2\n",
    "\n",
    "print(v_add.eval())\n",
    "sess.close()"
   ]
  },
  {
   "cell_type": "markdown",
   "metadata": {
    "colab_type": "text",
    "id": "aGXZSJ4EnzO8"
   },
   "source": [
    "## 1.5 Constants, Variables, and Placeholders\n",
    "\n",
    "*   Constants: immutible tensors.\n",
    "*   Variables: tensors which need to be updated in a session.\n",
    "*   Placeholders: used to input values to tensorflow graphs. Can be used with `feed_dict` to input data. Inputting training data.\n",
    "\n"
   ]
  },
  {
   "cell_type": "markdown",
   "metadata": {
    "colab_type": "text",
    "id": "PX6Bx1jZrRmf"
   },
   "source": [
    "### 1.5.1 Constants"
   ]
  },
  {
   "cell_type": "code",
   "execution_count": 8,
   "metadata": {
    "colab": {
     "base_uri": "https://localhost:8080/",
     "height": 88
    },
    "colab_type": "code",
    "executionInfo": {
     "elapsed": 1285,
     "status": "ok",
     "timestamp": 1559203838367,
     "user": {
      "displayName": "Yawen Duan",
      "photoUrl": "",
      "userId": "09410623314339653119"
     },
     "user_tz": -480
    },
    "id": "Oj7RUTmDo57m",
    "outputId": "79ca04be-fb08-456a-8a3c-a6e9710f92a0"
   },
   "outputs": [
    {
     "name": "stdout",
     "output_type": "stream",
     "text": [
      "4\n"
     ]
    }
   ],
   "source": [
    "sess = tf.InteractiveSession()\n",
    "# scalar constant\n",
    "t_1 = tf.constant(4)\n",
    "print(t_1.eval())"
   ]
  },
  {
   "cell_type": "code",
   "execution_count": 9,
   "metadata": {
    "colab": {
     "base_uri": "https://localhost:8080/",
     "height": 34
    },
    "colab_type": "code",
    "executionInfo": {
     "elapsed": 1776,
     "status": "ok",
     "timestamp": 1559203839086,
     "user": {
      "displayName": "Yawen Duan",
      "photoUrl": "",
      "userId": "09410623314339653119"
     },
     "user_tz": -480
    },
    "id": "rhmIH0ugpXrw",
    "outputId": "799bf697-bccd-4154-9a32-b0af760f8d31"
   },
   "outputs": [
    {
     "name": "stdout",
     "output_type": "stream",
     "text": [
      "[4 3 2]\n"
     ]
    }
   ],
   "source": [
    "# vector constant \n",
    "t_2 = tf.constant([4,3,2])\n",
    "print(t_2.eval())"
   ]
  },
  {
   "cell_type": "code",
   "execution_count": 10,
   "metadata": {
    "colab": {
     "base_uri": "https://localhost:8080/",
     "height": 68
    },
    "colab_type": "code",
    "executionInfo": {
     "elapsed": 1475,
     "status": "ok",
     "timestamp": 1559203839089,
     "user": {
      "displayName": "Yawen Duan",
      "photoUrl": "",
      "userId": "09410623314339653119"
     },
     "user_tz": -480
    },
    "id": "EhOdKf5ppXub",
    "outputId": "65e7a059-6852-4842-d968-023252abcd12"
   },
   "outputs": [
    {
     "name": "stdout",
     "output_type": "stream",
     "text": [
      "[[0 0 0]\n",
      " [0 0 0]] [[1 1 1]\n",
      " [1 1 1]]\n"
     ]
    }
   ],
   "source": [
    "# zero/one tensors and data type\n",
    "zero_t = tf.zeros([2,3],tf.int32)\n",
    "one_t = tf.ones([2,3],tf.int32)\n",
    "print(zero_t.eval(),one_t.eval())"
   ]
  },
  {
   "cell_type": "code",
   "execution_count": 11,
   "metadata": {
    "colab": {
     "base_uri": "https://localhost:8080/",
     "height": 34
    },
    "colab_type": "code",
    "executionInfo": {
     "elapsed": 1795,
     "status": "ok",
     "timestamp": 1559203839648,
     "user": {
      "displayName": "Yawen Duan",
      "photoUrl": "",
      "userId": "09410623314339653119"
     },
     "user_tz": -480
    },
    "id": "_ySpD9kApXzH",
    "outputId": "d7e166e7-128a-46b2-d79f-edac23f4983c"
   },
   "outputs": [
    {
     "name": "stdout",
     "output_type": "stream",
     "text": [
      "[0 0 0] [1 1 1]\n"
     ]
    }
   ],
   "source": [
    "# create matrices of same shape as t_2\n",
    "a = tf.zeros_like(t_2)\n",
    "b = tf.ones_like(t_2)\n",
    "print(a.eval(),b.eval())"
   ]
  },
  {
   "cell_type": "code",
   "execution_count": 12,
   "metadata": {
    "colab": {
     "base_uri": "https://localhost:8080/",
     "height": 68
    },
    "colab_type": "code",
    "executionInfo": {
     "elapsed": 1629,
     "status": "ok",
     "timestamp": 1559203839651,
     "user": {
      "displayName": "Yawen Duan",
      "photoUrl": "",
      "userId": "09410623314339653119"
     },
     "user_tz": -480
    },
    "id": "7FhuLJO_pXxj",
    "outputId": "64931359-9a40-4484-9ca4-7c2f8f8f5047"
   },
   "outputs": [
    {
     "name": "stdout",
     "output_type": "stream",
     "text": [
      "[2.5   3.125 3.75  4.375 5.   ]\n",
      "[0 1 2 3 4 5 6 7 8 9]\n",
      "[1 4 7]\n"
     ]
    }
   ],
   "source": [
    "# create an arithmetric sequence of numbers\n",
    "# tf.linspace(start,stop,num)\n",
    "range_t = tf.linspace(2.5,5.0,5)\n",
    "print(range_t.eval())\n",
    "\n",
    "# create a range of numbers\n",
    "# tf.range(start=0,limit,delta=1)\n",
    "range_t1 = tf.range(10)\n",
    "print(range_t1.eval())\n",
    "range_t2 = tf.range(1,10,3)\n",
    "print(range_t2.eval())"
   ]
  },
  {
   "cell_type": "code",
   "execution_count": 13,
   "metadata": {
    "colab": {
     "base_uri": "https://localhost:8080/",
     "height": 119
    },
    "colab_type": "code",
    "executionInfo": {
     "elapsed": 1403,
     "status": "ok",
     "timestamp": 1559204067499,
     "user": {
      "displayName": "Yawen Duan",
      "photoUrl": "",
      "userId": "09410623314339653119"
     },
     "user_tz": -480
    },
    "id": "u7tVvqDGs927",
    "outputId": "13be5885-ced7-42e6-dda7-11d64d49b22b"
   },
   "outputs": [
    {
     "name": "stdout",
     "output_type": "stream",
     "text": [
      "[[-0.7465255   4.37991     0.9527606 ]\n",
      " [-2.5376031   0.25889844  1.8478067 ]]\n",
      "[[-0.43663138  0.8449775  -0.01180986 -0.8844008  -1.938745  ]]\n",
      "[[2.272305  2.848183 ]\n",
      " [2.3525546 2.0042503]\n",
      " [2.9222991 2.7713444]]\n"
     ]
    }
   ],
   "source": [
    "# random normal tensors\n",
    "t_dist = tf.random_normal([2,3],mean=1.0,stddev=4,seed=12)\n",
    "print(t_dist.eval())\n",
    "\n",
    "# truncated normal tensors\n",
    "t_dist = tf.truncated_normal([1,5],mean=0,stddev=1,seed=12)\n",
    "print(t_dist.eval())\n",
    "\n",
    "# random uniform tensors\n",
    "t_dist = tf.random_uniform([3,2],minval=1,maxval=3,seed=12)\n",
    "print(t_dist.eval())"
   ]
  },
  {
   "cell_type": "code",
   "execution_count": 14,
   "metadata": {
    "colab": {
     "base_uri": "https://localhost:8080/",
     "height": 136
    },
    "colab_type": "code",
    "executionInfo": {
     "elapsed": 1202,
     "status": "ok",
     "timestamp": 1559204331633,
     "user": {
      "displayName": "Yawen Duan",
      "photoUrl": "",
      "userId": "09410623314339653119"
     },
     "user_tz": -480
    },
    "id": "CYvDI3BEs9-H",
    "outputId": "ca6c051e-ef15-419f-a38c-b947db915d46"
   },
   "outputs": [
    {
     "name": "stdout",
     "output_type": "stream",
     "text": [
      "WARNING:tensorflow:From /Applications/anaconda3/lib/python3.7/site-packages/tensorflow/python/ops/control_flow_ops.py:3632: colocate_with (from tensorflow.python.framework.ops) is deprecated and will be removed in a future version.\n",
      "Instructions for updating:\n",
      "Colocations handled automatically by placer.\n",
      "[[1 2 3]\n",
      " [4 5 6]]\n",
      "[[5 6]]\n",
      "[[1.2521961 2.2848113]\n",
      " [1.2196758 1.2682464]\n",
      " [2.5233216 2.8667824]]\n",
      "[[1.2071614 2.0964448]]\n"
     ]
    }
   ],
   "source": [
    "# random crop on constant tensor\n",
    "t_con = tf.constant([[1,2,3],[4,5,6]])\n",
    "t_crop = tf.random_crop(t_con,[1,2],seed=2)\n",
    "print(t_con.eval())\n",
    "print(t_crop.eval())\n",
    "\n",
    "# random crop on constant tensor\n",
    "t_crop = tf.random_crop(t_dist,[1,2],seed=2)\n",
    "print(t_dist.eval())\n",
    "print(t_crop.eval())"
   ]
  },
  {
   "cell_type": "code",
   "execution_count": 15,
   "metadata": {
    "colab": {
     "base_uri": "https://localhost:8080/",
     "height": 68
    },
    "colab_type": "code",
    "executionInfo": {
     "elapsed": 1556,
     "status": "ok",
     "timestamp": 1559204479304,
     "user": {
      "displayName": "Yawen Duan",
      "photoUrl": "",
      "userId": "09410623314339653119"
     },
     "user_tz": -480
    },
    "id": "dH5YATSs0hdB",
    "outputId": "9d11f0bf-0495-47ba-878c-f1a32f46123e"
   },
   "outputs": [
    {
     "name": "stdout",
     "output_type": "stream",
     "text": [
      "[[3 4]\n",
      " [5 6]\n",
      " [1 2]]\n"
     ]
    }
   ],
   "source": [
    "# random shuffle along the first dimension\n",
    "t_con = tf.constant([[1,2],[3,4],[5,6]])\n",
    "t_con = tf.random_shuffle(t_con)\n",
    "print(t_con.eval())\n",
    "\n",
    "# set the seed\n",
    "tf.set_random_seed(54)"
   ]
  },
  {
   "cell_type": "markdown",
   "metadata": {
    "colab_type": "text",
    "id": "6OemNk4Yn086"
   },
   "source": [
    "### 1.5.2 Variables\n",
    "The weights and biases are usually defined as variables."
   ]
  },
  {
   "cell_type": "code",
   "execution_count": 16,
   "metadata": {
    "colab": {},
    "colab_type": "code",
    "id": "5qpDNUw32uSE"
   },
   "outputs": [],
   "source": [
    "rand_t = tf.random_uniform([10,10],0,10,seed=0)\n",
    "t_a = tf.Variable(rand_t)\n",
    "t_b = tf.Variable(rand_t)\n",
    "# print(t_a.eval(),t_b.eval())"
   ]
  },
  {
   "cell_type": "code",
   "execution_count": 17,
   "metadata": {
    "colab": {},
    "colab_type": "code",
    "id": "h-oFhYcw2tTI"
   },
   "outputs": [],
   "source": [
    "# initialize variables with constants\n",
    "weights = tf.Variable(tf.random_normal([100,100],stddev=2))\n",
    "bias = tf.Variable(tf.zeros([100]),name='biases')"
   ]
  },
  {
   "cell_type": "code",
   "execution_count": 18,
   "metadata": {
    "colab": {},
    "colab_type": "code",
    "id": "Ev9mP5KL4RqQ"
   },
   "outputs": [],
   "source": [
    "# initialize variables with other variables\n",
    "weight2 = tf.Variable(weights.initialized_value(),name='w2')"
   ]
  },
  {
   "cell_type": "code",
   "execution_count": 19,
   "metadata": {
    "colab": {},
    "colab_type": "code",
    "id": "TqdyvgOf4cBc"
   },
   "outputs": [],
   "source": [
    "init_op = tf.global_variables_initializer()\n",
    "with tf.Session() as sess:\n",
    "  sess.run(init_op)\n",
    "# Now all variables are initialized."
   ]
  },
  {
   "cell_type": "code",
   "execution_count": 20,
   "metadata": {
    "colab": {},
    "colab_type": "code",
    "id": "32RIzsKR56Ze"
   },
   "outputs": [],
   "source": [
    "# use tf.Variable.initializer for initiation\n",
    "bias = tf.Variable(tf.zeros([100,100]))\n",
    "with tf.Session() as sess:\n",
    "  sess.run(bias.initializer)"
   ]
  },
  {
   "cell_type": "markdown",
   "metadata": {
    "colab_type": "text",
    "id": "3CW7yx2w7aHD"
   },
   "source": [
    "### 1.5.3 Placeholder\n",
    "```\n",
    "tf.placeholder(dtype,shape=None,name=None)\n",
    "```"
   ]
  },
  {
   "cell_type": "code",
   "execution_count": 21,
   "metadata": {
    "colab": {
     "base_uri": "https://localhost:8080/",
     "height": 153
    },
    "colab_type": "code",
    "executionInfo": {
     "elapsed": 2041,
     "status": "ok",
     "timestamp": 1559206317672,
     "user": {
      "displayName": "Yawen Duan",
      "photoUrl": "",
      "userId": "09410623314339653119"
     },
     "user_tz": -480
    },
    "id": "lWQhghXI6NIj",
    "outputId": "2b47d783-2e20-4b2d-ad1e-e572c9f91c96"
   },
   "outputs": [
    {
     "name": "stdout",
     "output_type": "stream",
     "text": [
      "[[7.6720443 5.710861  6.403738  2.1752882 7.660203 ]\n",
      " [5.45216   4.033483  3.0168047 8.321063  6.519512 ]\n",
      " [8.249519  3.4774704 3.9345255 8.92368   9.4752655]\n",
      " [3.4804683 7.9149613 5.9669876 6.169664  8.014108 ]]\n",
      "[[15.344089  11.421722  12.807476   4.3505764 15.320406 ]\n",
      " [10.90432    8.066966   6.0336094 16.642126  13.039024 ]\n",
      " [16.499039   6.954941   7.869051  17.84736   18.950531 ]\n",
      " [ 6.9609365 15.829923  11.933975  12.339328  16.028215 ]]\n"
     ]
    }
   ],
   "source": [
    "x = tf.placeholder(\"float\")\n",
    "y = 2 * x\n",
    "data = tf.random_uniform([4,5],10)\n",
    "with tf.Session() as sess:\n",
    "  x_data = sess.run(data)\n",
    "  print(x_data)\n",
    "  print(sess.run(y,feed_dict = {x:x_data}))"
   ]
  },
  {
   "cell_type": "markdown",
   "metadata": {
    "colab_type": "text",
    "id": "sI7G_YnU-e8M"
   },
   "source": [
    "## 1.6 Matrix Operation with TensorFlow"
   ]
  },
  {
   "cell_type": "code",
   "execution_count": 22,
   "metadata": {
    "colab": {
     "base_uri": "https://localhost:8080/",
     "height": 955
    },
    "colab_type": "code",
    "executionInfo": {
     "elapsed": 1304,
     "status": "ok",
     "timestamp": 1559209416614,
     "user": {
      "displayName": "Yawen Duan",
      "photoUrl": "",
      "userId": "09410623314339653119"
     },
     "user_tz": -480
    },
    "id": "yivuOzeI8A-K",
    "outputId": "0cb1826f-74dc-4427-d0f5-a9a144517021"
   },
   "outputs": [
    {
     "name": "stdout",
     "output_type": "stream",
     "text": [
      "[[1. 0. 0. 0. 0.]\n",
      " [0. 1. 0. 0. 0.]\n",
      " [0. 0. 1. 0. 0.]\n",
      " [0. 0. 0. 1. 0.]\n",
      " [0. 0. 0. 0. 1.]]\n",
      "[[1. 0. 0. 0. 0. 0. 0. 0. 0. 0.]\n",
      " [0. 1. 0. 0. 0. 0. 0. 0. 0. 0.]\n",
      " [0. 0. 1. 0. 0. 0. 0. 0. 0. 0.]\n",
      " [0. 0. 0. 1. 0. 0. 0. 0. 0. 0.]\n",
      " [0. 0. 0. 0. 1. 0. 0. 0. 0. 0.]\n",
      " [0. 0. 0. 0. 0. 1. 0. 0. 0. 0.]\n",
      " [0. 0. 0. 0. 0. 0. 1. 0. 0. 0.]\n",
      " [0. 0. 0. 0. 0. 0. 0. 1. 0. 0.]\n",
      " [0. 0. 0. 0. 0. 0. 0. 0. 1. 0.]\n",
      " [0. 0. 0. 0. 0. 0. 0. 0. 0. 1.]]\n",
      "[[ 0.28374302 -0.04217967 -0.5050082   0.4189594   0.12243835 -1.4407374\n",
      "  -0.6661237  -1.1871464  -0.2499964  -2.014177  ]\n",
      " [-0.9985134   2.488057   -0.40250337  0.26631653 -0.809833   -0.44930166\n",
      "   0.60932773  0.2536193  -0.20390452 -0.3871575 ]\n",
      " [ 1.1513935   0.26367092 -2.3105345   1.6393877  -0.6490821  -0.5974765\n",
      "   0.6823976  -0.4740688  -0.5371546  -0.621028  ]\n",
      " [ 1.5323261  -1.660928    0.19297658  0.8042612  -0.76616544 -0.03736657\n",
      "  -1.7034934  -0.7693869   0.99616694  0.02773532]\n",
      " [ 0.59307116  1.1517754   1.13489    -0.2686425  -0.74983126  0.6832754\n",
      "   0.90920377  1.2224177   0.13030444 -2.1507626 ]]\n",
      "[[1 0 1 0 0 1 1 0 0 1]\n",
      " [1 1 0 0 1 0 1 0 0 0]\n",
      " [0 1 0 0 0 0 1 0 1 0]\n",
      " [0 1 0 1 1 1 0 0 1 1]\n",
      " [1 0 0 0 1 1 0 1 0 0]]\n",
      "A*X+b\n",
      " [[ 1.2837430e+00 -4.2179670e-02  4.9499178e-01  4.1895941e-01\n",
      "   1.2243835e-01 -4.4073737e-01  3.3387631e-01 -1.1871464e+00\n",
      "  -2.4999639e-01 -1.0141771e+00]\n",
      " [ 1.4865994e-03  3.4880569e+00 -4.0250337e-01  2.6631653e-01\n",
      "   1.9016701e-01 -4.4930166e-01  1.6093278e+00  2.5361931e-01\n",
      "  -2.0390452e-01 -3.8715750e-01]\n",
      " [ 1.1513935e+00  1.2636709e+00 -2.3105345e+00  1.6393877e+00\n",
      "  -6.4908212e-01 -5.9747648e-01  1.6823976e+00 -4.7406879e-01\n",
      "   4.6284539e-01 -6.2102801e-01]\n",
      " [ 1.5323261e+00 -6.6092801e-01  1.9297658e-01  1.8042612e+00\n",
      "   2.3383456e-01  9.6263343e-01 -1.7034934e+00 -7.6938689e-01\n",
      "   1.9961669e+00  1.0277354e+00]\n",
      " [ 1.5930712e+00  1.1517754e+00  1.1348900e+00 -2.6864249e-01\n",
      "   2.5016874e-01  1.6832755e+00  9.0920377e-01  2.2224178e+00\n",
      "   1.3030444e-01 -2.1507626e+00]]\n",
      "A*X-b\n",
      " [[-0.716257   -0.04217967 -1.5050082   0.4189594   0.12243835 -2.4407372\n",
      "  -1.6661236  -1.1871464  -0.2499964  -3.014177  ]\n",
      " [-1.9985135   1.4880569  -0.40250337  0.26631653 -1.809833   -0.44930166\n",
      "  -0.39067227  0.2536193  -0.20390452 -0.3871575 ]\n",
      " [ 1.1513935  -0.7363291  -2.3105345   1.6393877  -0.6490821  -0.5974765\n",
      "  -0.3176024  -0.4740688  -1.5371547  -0.621028  ]\n",
      " [ 1.5323261  -2.660928    0.19297658 -0.19573879 -1.7661655  -1.0373666\n",
      "  -1.7034934  -0.7693869  -0.00383306 -0.9722647 ]\n",
      " [-0.40692884  1.1517754   1.13489    -0.2686425  -1.7498312  -0.3167246\n",
      "   0.90920377  0.22241771  0.13030444 -2.1507626 ]]\n"
     ]
    },
    {
     "name": "stderr",
     "output_type": "stream",
     "text": [
      "/Applications/anaconda3/lib/python3.7/site-packages/tensorflow/python/client/session.py:1702: UserWarning: An interactive session is already active. This can cause out-of-memory errors in some cases. You must explicitly call `InteractiveSession.close()` to release resources held by the other session(s).\n",
      "  warnings.warn('An interactive session is already active. This can '\n"
     ]
    }
   ],
   "source": [
    "import tensorflow as tf\n",
    "sess = tf.InteractiveSession()\n",
    "\n",
    "# Define a 5*5 Identity matrix\n",
    "I_mat = tf.eye(5)\n",
    "print(I_mat.eval())\n",
    "\n",
    "# Define a Variable initialized to a 10*10 identity matrix\n",
    "X = tf.Variable(tf.eye(10))\n",
    "X.initializer.run()\n",
    "print(X.eval())\n",
    "\n",
    "# Create a random 5*10 matrix\n",
    "A = tf.Variable(tf.random_normal([5,10]))\n",
    "A.initializer.run()\n",
    "\n",
    "# multiply two matrices\n",
    "product = tf.matmul(A,X)\n",
    "print(product.eval())\n",
    "\n",
    "# create a random matrix of 1s and 0s, size 5*10\n",
    "b = tf.Variable(tf.random_uniform([5,10],0,2,dtype=tf.int32))\n",
    "b.initializer.run()\n",
    "print(b.eval())\n",
    "b_new = tf.cast(b, dtype=tf.float32)\n",
    "# cast to float32 data type\n",
    "\n",
    "# add the two matrices\n",
    "t_sum = tf.add(product, b_new)\n",
    "t_sub = product - b_new\n",
    "print(\"A*X+b\\n\",t_sum.eval())\n",
    "print(\"A*X-b\\n\",t_sub.eval())\n",
    "\n",
    "sess.close()"
   ]
  },
  {
   "cell_type": "code",
   "execution_count": 23,
   "metadata": {
    "colab": {
     "base_uri": "https://localhost:8080/",
     "height": 581
    },
    "colab_type": "code",
    "executionInfo": {
     "elapsed": 2920,
     "status": "ok",
     "timestamp": 1559209422860,
     "user": {
      "displayName": "Yawen Duan",
      "photoUrl": "",
      "userId": "09410623314339653119"
     },
     "user_tz": -480
    },
    "id": "-jYjaMuh-2Jg",
    "outputId": "b2a1f3f8-1caa-4de7-9676-f0dcdb3cbc21"
   },
   "outputs": [
    {
     "name": "stdout",
     "output_type": "stream",
     "text": [
      "WARNING:tensorflow:From <ipython-input-23-8f34ec55e3fe>:15: div (from tensorflow.python.ops.math_ops) is deprecated and will be removed in a future version.\n",
      "Instructions for updating:\n",
      "Deprecated in favor of operator or tf.math.divide.\n",
      "a\n",
      " [[-0.9430028  -0.34879112  0.5766802   1.9206811   1.6136992 ]\n",
      " [ 2.5986552  -0.59267837  3.437819   -2.6860437  -0.89424115]\n",
      " [ 6.796328    2.916591   -0.6644205  -1.2689757  -3.6426198 ]\n",
      " [ 1.4510779  -2.1974227   3.9827437   1.3747982   1.6274792 ]] \n",
      " b\n",
      " [[-0.37194297 -0.1002806  -2.8210473  -2.3129888   0.3165554 ]\n",
      " [-2.5756962   0.45763797  0.9004141   1.6635127   0.93473506]\n",
      " [ 1.4587626   2.2675807   1.2273183  -2.4567132   0.8562062 ]\n",
      " [ 0.9785267   3.7941153  -1.5356824  -0.28799674  0.29267198]] \n",
      " a*b\n",
      " [[ 0.35074326  0.03497698 -1.626842   -4.442514    0.5108252 ]\n",
      " [-6.6933465  -0.27123213  3.0954607  -4.468268   -0.83587855]\n",
      " [ 9.914229    6.6136055  -0.81545544  3.1175094  -3.1188335 ]\n",
      " [ 1.4199185  -8.3372755  -6.1162295  -0.39593738  0.47631755]] \n",
      " 2*a*b\n",
      " [[  0.7014865    0.06995396  -3.253684    -8.885028     1.0216504 ]\n",
      " [-13.386693    -0.54246426   6.1909213   -8.936536    -1.6717571 ]\n",
      " [ 19.828459    13.227211    -1.6309109    6.2350187   -6.237667  ]\n",
      " [  2.839837   -16.674551   -12.232459    -0.79187477   0.9526351 ]] \n",
      " a/b\n",
      " [[ 2.5353425   3.4781516  -0.2044206  -0.8303893   5.0976834 ]\n",
      " [-1.0089138  -1.2950813   3.818042   -1.6146818  -0.95667875]\n",
      " [ 4.6589675   1.2862126  -0.54135954  0.5165339  -4.254372  ]\n",
      " [ 1.4829211  -0.57916605 -2.5934684  -4.7736588   5.560762  ]] \n",
      " a%b\n",
      " [[-0.19911689 -0.04794933 -2.2443671  -0.39230764  0.03092214]\n",
      " [-2.5527372   0.32259756  0.7365767   0.6409817   0.04049391]\n",
      " [ 0.9612775   0.6490102   0.5628978  -1.2689757   0.63841105]\n",
      " [ 0.47255123  1.5966926  -0.6243036  -0.06518552  0.1641193 ]]\n"
     ]
    }
   ],
   "source": [
    "import tensorflow as tf\n",
    "sess = tf.InteractiveSession()\n",
    "\n",
    "# Create two random matrices\n",
    "a = tf.Variable(tf.random_normal([4,5],stddev=2))\n",
    "b = tf.Variable(tf.random_normal([4,5],stddev=2))\n",
    "\n",
    "# Elementwise Multiplication\n",
    "A = a * b\n",
    "\n",
    "# Multiplication with a scalar 2\n",
    "B = tf.scalar_mul(2,A)\n",
    "\n",
    "# Elementwise division\n",
    "C = tf.div(a,b)\n",
    "# returned tensor has the same dtype of a\n",
    "\n",
    "# Elementwise remainder of division\n",
    "D = tf.mod(a,b)\n",
    "\n",
    "init_op = tf.global_variables_initializer()\n",
    "with tf.Session() as sess:\n",
    "  sess.run(init_op)\n",
    "  writer = tf.summary.FileWriter('graphs',sess.graph)\n",
    "  a, b, A_R, B_R, C_R, D_R = sess.run([a,b,A,B,C,D])\n",
    "  print(\"a\\n\",a,\"\\n b\\n\",b,\"\\n a*b\\n\",A_R,\"\\n 2*a*b\\n\",B_R, \"\\n a/b\\n\",C_R, \"\\n a%b\\n\", D_R)\n",
    "  writer.close()\n",
    "\n",
    "sess.close()"
   ]
  },
  {
   "cell_type": "markdown",
   "metadata": {
    "colab_type": "text",
    "id": "GXd-U1nTGhHU"
   },
   "source": [
    "## 1.7 Using TensorBoard"
   ]
  },
  {
   "cell_type": "markdown",
   "metadata": {},
   "source": [
    "!tensorboard --logdir=graphs"
   ]
  }
 ],
 "metadata": {
  "accelerator": "GPU",
  "colab": {
   "collapsed_sections": [
    "QtawTB6y2cqb",
    "2broFgCFAjWx"
   ],
   "name": "01.Intro_to_TensorFlow.ipynb",
   "provenance": [],
   "toc_visible": true,
   "version": "0.3.2"
  },
  "kernelspec": {
   "display_name": "Python 3",
   "language": "python",
   "name": "python3"
  },
  "language_info": {
   "codemirror_mode": {
    "name": "ipython",
    "version": 3
   },
   "file_extension": ".py",
   "mimetype": "text/x-python",
   "name": "python",
   "nbconvert_exporter": "python",
   "pygments_lexer": "ipython3",
   "version": "3.7.1"
  }
 },
 "nbformat": 4,
 "nbformat_minor": 1
}
