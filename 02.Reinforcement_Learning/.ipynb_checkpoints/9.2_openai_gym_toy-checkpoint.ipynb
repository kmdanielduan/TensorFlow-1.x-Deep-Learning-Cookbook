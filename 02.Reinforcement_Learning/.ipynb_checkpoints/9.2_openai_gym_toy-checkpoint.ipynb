{
 "cells": [
  {
   "cell_type": "code",
   "execution_count": 16,
   "metadata": {},
   "outputs": [],
   "source": [
    "import gym\n",
    "import numpy as np\n",
    "import matplotlib.pyplot as plt\n",
    "import time"
   ]
  },
  {
   "cell_type": "code",
   "execution_count": 17,
   "metadata": {},
   "outputs": [],
   "source": [
    "# initiate an environment\n",
    "env_name = 'Breakout-v4'\n",
    "env = gym.make(env_name)"
   ]
  },
  {
   "cell_type": "code",
   "execution_count": 18,
   "metadata": {},
   "outputs": [],
   "source": [
    "# initiate the environment with reset\n",
    "obs = env.reset()"
   ]
  },
  {
   "cell_type": "code",
   "execution_count": 19,
   "metadata": {},
   "outputs": [
    {
     "name": "stdout",
     "output_type": "stream",
     "text": [
      "(210, 160, 3)\n"
     ]
    }
   ],
   "source": [
    "print(obs.shape)"
   ]
  },
  {
   "cell_type": "code",
   "execution_count": 20,
   "metadata": {},
   "outputs": [
    {
     "name": "stdout",
     "output_type": "stream",
     "text": [
      "Discrete(4)\n",
      "4\n"
     ]
    }
   ],
   "source": [
    "# see the actions available\n",
    "actions = env.action_space\n",
    "num_action = env.action_space.n\n",
    "print(actions)\n",
    "print(num_action)"
   ]
  },
  {
   "cell_type": "code",
   "execution_count": 21,
   "metadata": {},
   "outputs": [],
   "source": [
    "def random_policy(n):\n",
    "    action = np.random.randint(0,n)\n",
    "    return action"
   ]
  },
  {
   "cell_type": "code",
   "execution_count": 22,
   "metadata": {},
   "outputs": [
    {
     "data": {
      "image/png": "[encoded data removed]",
      "text/plain": [
       "<Figure size 432x288 with 1 Axes>"
      ]
     },
     "metadata": {
      "needs_background": "light"
     },
     "output_type": "display_data"
    },
    {
     "name": "stdout",
     "output_type": "stream",
     "text": [
      "The game is over in 210 steps\n"
     ]
    }
   ],
   "source": [
    "for step in range(1000):\n",
    "#     time.sleep(0.2)\n",
    "    action = random_policy(env.action_space.n)\n",
    "    obs, reward, done, info = env.step(action)\n",
    "    # the info shows how many lives left for the agent\n",
    "#     print(reward, info)\n",
    "    _ = env.render()\n",
    "    if done:\n",
    "        img = env.render(mode='rgb_array')\n",
    "        plt.imshow(img)\n",
    "        plt.show()\n",
    "        print('The game is over in {} steps'.format(step))\n",
    "        break"
   ]
  },
  {
   "cell_type": "code",
   "execution_count": 23,
   "metadata": {},
   "outputs": [],
   "source": [
    "env.close()"
   ]
  },
  {
   "cell_type": "code",
   "execution_count": 24,
   "metadata": {},
   "outputs": [
    {
     "name": "stdout",
     "output_type": "stream",
     "text": [
      "Total Number of environments are 833\n"
     ]
    }
   ],
   "source": [
    "# show the environments of openai gym\n",
    "from gym import envs\n",
    "env_ids = [spec.id for spec in envs.registry.all()]\n",
    "print('Total Number of environments are', len(env_ids))\n",
    "for env_id in sorted(env_ids):\n",
    "#     print(env_id)\n",
    "    pass"
   ]
  }
 ],
 "metadata": {
  "kernelspec": {
   "display_name": "Python 3",
   "language": "python",
   "name": "python3"
  },
  "language_info": {
   "codemirror_mode": {
    "name": "ipython",
    "version": 3
   },
   "file_extension": ".py",
   "mimetype": "text/x-python",
   "name": "python",
   "nbconvert_exporter": "python",
   "pygments_lexer": "ipython3",
   "version": "3.7.1"
  }
 },
 "nbformat": 4,
 "nbformat_minor": 2
}
