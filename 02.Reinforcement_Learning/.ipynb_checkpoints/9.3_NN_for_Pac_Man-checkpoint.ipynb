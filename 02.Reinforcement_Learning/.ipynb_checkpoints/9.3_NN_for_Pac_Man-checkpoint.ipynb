{
 "cells": [
  {
   "cell_type": "markdown",
   "metadata": {},
   "source": [
    "## Neural Network Agent for Pac Man game\n",
    "We create a simple neural network agent for Pac Man game. We first initiate a set of random weights and bias and let it play, and choose the agent with the longest time.\n",
    "\n",
    "Here, the agents don't learn any policy, but relies on initial parameters to make actions(i.e. fixed policy). We use fully connected layers for this problem. The Pac Man has 9 actions -- wait, turn right, turn left, turn up, turn down, go left, go right, go up, go down. So in total, we have 9 output neurons."
   ]
  },
  {
   "cell_type": "code",
   "execution_count": 85,
   "metadata": {},
   "outputs": [],
   "source": [
    "import gym\n",
    "import numpy as np\n",
    "import tensorflow as tf\n",
    "import matplotlib.pyplot as plt\n",
    "import time"
   ]
  },
  {
   "cell_type": "code",
   "execution_count": 86,
   "metadata": {},
   "outputs": [],
   "source": [
    "# create a class called RlAgent\n",
    "class RlAgent:\n",
    "    def __init__(self,m,n,ini=False,W=None,b=None):\n",
    "        self._graph = tf.Graph()\n",
    "        with self._graph.as_default():\n",
    "            self._X = tf.placeholder(tf.float32,shape=(1,m))\n",
    "            if ini == False:\n",
    "                self.W = tf.Variable(tf.random_normal([m,n]),dtype=tf.float32,trainable=False)\n",
    "                self.bias = tf.Variable(tf.random_normal([1,n]),dtype=tf.float32,trainable=False)\n",
    "            else:\n",
    "                self.W = W.astype(np.float32)\n",
    "                self.bias = b.astype(np.float32)\n",
    "            out = tf.nn.sigmoid(tf.matmul(self._X,self.W)+self.bias)\n",
    "            self._result = tf.multinomial(out,1)\n",
    "            init = tf.global_variables_initializer()\n",
    "            self._sess = tf.Session()\n",
    "            self._sess.run(init)\n",
    "    def predict(self,X):\n",
    "        action = self._sess.run(self._result,feed_dict={self._X:X})\n",
    "        return action\n",
    "    def get_weights(self):\n",
    "        W, b = self._sess.run([self.W,self.bias])\n",
    "        return W, b"
   ]
  },
  {
   "cell_type": "code",
   "execution_count": 87,
   "metadata": {},
   "outputs": [],
   "source": [
    "# for every step the enviroment will return an observation\n",
    "# with 3 color channels, we preprocess the image by turning it \n",
    "# to grey scales and bring better contrast\n",
    "def preprocess_image(img):\n",
    "    img = img.mean(axis = 2) # to grayscale\n",
    "    img[img==150] = 0 # bring about a better contrast\n",
    "    img = (img-128)/128 - 1 # Normalize image from -1 to 1\n",
    "    m,n = img.shape\n",
    "    return img.reshape(1,m*n)"
   ]
  },
  {
   "cell_type": "code",
   "execution_count": 88,
   "metadata": {},
   "outputs": [],
   "source": [
    "# define the function play_one_episode to play a game\n",
    "def play_one_episode(env,agent,show=False):\n",
    "    obs = env.reset()\n",
    "    img_pre = preprocess_image(obs)\n",
    "    done = False\n",
    "    t = 0\n",
    "    while not done and t < 10000:\n",
    "        if show == True:\n",
    "            env.render()\n",
    "            time.sleep(0.3)\n",
    "        t += 1\n",
    "        action = agent.predict(img_pre)\n",
    "#         print(action)\n",
    "#         print(t,action)\n",
    "        obs, reward, done, info = env.step(action)\n",
    "        img_pre = preprocess_image(obs)\n",
    "        if done:\n",
    "            break\n",
    "    return t"
   ]
  },
  {
   "cell_type": "code",
   "execution_count": 89,
   "metadata": {},
   "outputs": [],
   "source": [
    "# define an agent with the function play_multiple_episodes,\n",
    "# let the agent play the game for multiple times and return \n",
    "# the average time\n",
    "def play_multiple_episodes(env, T, ini=False, W=None, b=None):\n",
    "    episode_lengths = np.empty(T)\n",
    "    obs = env.reset()\n",
    "    img_pre = preprocess_image(obs)\n",
    "    if ini == False:\n",
    "        agent = RlAgent(img_pre.shape[1],env.action_space.n)\n",
    "    else:\n",
    "        agent = RlAgent(img_pre.shape[1],env.action_space.n,ini,W,b)\n",
    "    for i in range(T):\n",
    "        episode_lengths[i] = play_one_episode(env,agent)\n",
    "    avg_length = episode_lengths.mean()\n",
    "    print('avg length:',avg_length)\n",
    "    if ini == False:\n",
    "        W, b = agent.get_weights()\n",
    "    return avg_length, W, b"
   ]
  },
  {
   "cell_type": "code",
   "execution_count": 90,
   "metadata": {},
   "outputs": [],
   "source": [
    "# random_search will call play_multiple_episodes, it will create\n",
    "# agents with random weights and bias every time, and choose the \n",
    "# best one as the winner\n",
    "def random_search(env):\n",
    "    episode_lengths = []\n",
    "    best = 0\n",
    "    for t in range(1):\n",
    "        print('Agent {} reporting'.format(t))\n",
    "        avg_length, wts, bias = play_multiple_episodes(env,10)\n",
    "        episode_lengths.append(avg_length)\n",
    "        if avg_length > best:\n",
    "            best_wt = wts\n",
    "            best_bias = bias\n",
    "            best = avg_length\n",
    "    return episode_lengths, best_wt, best_bias"
   ]
  },
  {
   "cell_type": "code",
   "execution_count": 91,
   "metadata": {},
   "outputs": [
    {
     "name": "stdout",
     "output_type": "stream",
     "text": [
      "Agent 0 reporting\n",
      "avg length: 298.0\n"
     ]
    },
    {
     "data": {
      "image/png": "[encoded data removed]",
      "text/plain": [
       "<Figure size 432x288 with 1 Axes>"
      ]
     },
     "metadata": {
      "needs_background": "light"
     },
     "output_type": "display_data"
    },
    {
     "name": "stdout",
     "output_type": "stream",
     "text": [
      "Final Run with Best Agent\n",
      "avg length: 217.4\n"
     ]
    },
    {
     "ename": "NameError",
     "evalue": "name 'img_pre' is not defined",
     "output_type": "error",
     "traceback": [
      "\u001b[0;31m---------------------------------------------------------------------------\u001b[0m",
      "\u001b[0;31mNameError\u001b[0m                                 Traceback (most recent call last)",
      "\u001b[0;32m<ipython-input-91-2ce780dd215a>\u001b[0m in \u001b[0;36m<module>\u001b[0;34m\u001b[0m\n\u001b[1;32m      9\u001b[0m \u001b[0;31m# print(W,b)\u001b[0m\u001b[0;34m\u001b[0m\u001b[0;34m\u001b[0m\u001b[0;34m\u001b[0m\u001b[0m\n\u001b[1;32m     10\u001b[0m \u001b[0mplay_multiple_episodes\u001b[0m\u001b[0;34m(\u001b[0m\u001b[0menv\u001b[0m\u001b[0;34m,\u001b[0m\u001b[0;36m10\u001b[0m\u001b[0;34m,\u001b[0m \u001b[0mini\u001b[0m\u001b[0;34m=\u001b[0m\u001b[0;32mTrue\u001b[0m\u001b[0;34m,\u001b[0m\u001b[0mW\u001b[0m\u001b[0;34m=\u001b[0m\u001b[0mW\u001b[0m\u001b[0;34m,\u001b[0m\u001b[0mb\u001b[0m\u001b[0;34m=\u001b[0m\u001b[0mb\u001b[0m\u001b[0;34m)\u001b[0m\u001b[0;34m\u001b[0m\u001b[0;34m\u001b[0m\u001b[0m\n\u001b[0;32m---> 11\u001b[0;31m \u001b[0magent\u001b[0m \u001b[0;34m=\u001b[0m \u001b[0mRlAgent\u001b[0m\u001b[0;34m(\u001b[0m\u001b[0mimg_pre\u001b[0m\u001b[0;34m.\u001b[0m\u001b[0mshape\u001b[0m\u001b[0;34m[\u001b[0m\u001b[0;36m1\u001b[0m\u001b[0;34m]\u001b[0m\u001b[0;34m,\u001b[0m\u001b[0menv\u001b[0m\u001b[0;34m.\u001b[0m\u001b[0maction_space\u001b[0m\u001b[0;34m.\u001b[0m\u001b[0mn\u001b[0m\u001b[0;34m,\u001b[0m\u001b[0mini\u001b[0m\u001b[0;34m,\u001b[0m\u001b[0mW\u001b[0m\u001b[0;34m,\u001b[0m\u001b[0mb\u001b[0m\u001b[0;34m)\u001b[0m\u001b[0;34m\u001b[0m\u001b[0;34m\u001b[0m\u001b[0m\n\u001b[0m\u001b[1;32m     12\u001b[0m \u001b[0mplay_one_episode\u001b[0m\u001b[0;34m(\u001b[0m\u001b[0menv\u001b[0m\u001b[0;34m,\u001b[0m\u001b[0magent\u001b[0m\u001b[0;34m,\u001b[0m\u001b[0mshow\u001b[0m\u001b[0;34m=\u001b[0m\u001b[0;32mTrue\u001b[0m\u001b[0;34m)\u001b[0m\u001b[0;34m\u001b[0m\u001b[0;34m\u001b[0m\u001b[0m\n",
      "\u001b[0;31mNameError\u001b[0m: name 'img_pre' is not defined"
     ]
    }
   ],
   "source": [
    "env_name = 'Breakout-v0'\n",
    "# env_name = 'MsPacman-v0'\n",
    "env = gym.make(env_name)\n",
    "episode_lengths, W, b = random_search(env)\n",
    "plt.plot(episode_lengths)\n",
    "plt.show()\n",
    "print('Final Run with Best Agent')\n",
    "# print(W.shape,b.shape)\n",
    "# print(W,b)\n",
    "play_multiple_episodes(env,10, ini=True,W=W,b=b)\n",
    "\n",
    "obs = env.reset()\n",
    "img_pre = preprocess_image(obs)\n",
    "agent = RlAgent(img_pre.shape[1],env.action_space.n,ini,W,b)\n",
    "play_one_episode(env,agent,show=True)"
   ]
  },
  {
   "cell_type": "code",
   "execution_count": null,
   "metadata": {},
   "outputs": [],
   "source": [
    "env.close()"
   ]
  },
  {
   "cell_type": "code",
   "execution_count": null,
   "metadata": {},
   "outputs": [],
   "source": []
  }
 ],
 "metadata": {
  "kernelspec": {
   "display_name": "Python 3",
   "language": "python",
   "name": "python3"
  },
  "language_info": {
   "codemirror_mode": {
    "name": "ipython",
    "version": 3
   },
   "file_extension": ".py",
   "mimetype": "text/x-python",
   "name": "python",
   "nbconvert_exporter": "python",
   "pygments_lexer": "ipython3",
   "version": "3.7.1"
  }
 },
 "nbformat": 4,
 "nbformat_minor": 2
}
