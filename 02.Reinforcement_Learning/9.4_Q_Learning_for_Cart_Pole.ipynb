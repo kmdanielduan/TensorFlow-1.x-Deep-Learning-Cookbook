{
 "cells": [
  {
   "cell_type": "markdown",
   "metadata": {},
   "source": [
    "## 9.4 Q Learning for Cart-Pole\n"
   ]
  },
  {
   "cell_type": "code",
   "execution_count": 28,
   "metadata": {},
   "outputs": [],
   "source": [
    "import numpy as np\n",
    "import tensorflow as tf\n",
    "import gym \n",
    "import matplotlib.pyplot as plt\n",
    "from sklearn.pipeline import FeatureUnion\n",
    "from sklearn.preprocessing import StandardScaler\n",
    "from sklearn.kernel_approximation import RBFSampler\n",
    "import time"
   ]
  },
  {
   "cell_type": "code",
   "execution_count": 29,
   "metadata": {},
   "outputs": [],
   "source": [
    "class FeatureTransformer:\n",
    "    def __init__(self,env):\n",
    "        obs_examples = np.random.random((20000,4))\n",
    "        print(obs_examples)\n",
    "        scaler = StandardScaler()\n",
    "        scaler.fit(obs_examples)\n",
    "        \n",
    "        # used to convert a state to a featurized representation.\n",
    "        # We use RBF kernels with different variances to cover different parts of the space\n",
    "        featurizer = FeatureUnion([\n",
    "            (\"cart_position\", RBFSampler(gamma=0.02, n_components=500)),\n",
    "            (\"cart_velocity\", RBFSampler(gamma=1.0, n_components=500)),\n",
    "            (\"pole_angle\", RBFSampler(gamma=0.5, n_components=500)),\n",
    "            (\"pole_velocity\", RBFSampler(gamma=0.1, n_components=500))\n",
    "        ])\n",
    "        feature_examples = featurizer.fit_transform(scaler.transform(obs_examples))\n",
    "        print(feature_examples.shape)\n",
    "        \n",
    "        self.dimension = feature_examples.shape[1]\n",
    "        self.scaler = scaler\n",
    "        self.featurizer = featurizer\n",
    "    def transform(self, observations):\n",
    "        scaled = self.scaler.transform(observations)\n",
    "        return self.featurizer.transform(scaled)"
   ]
  },
  {
   "cell_type": "code",
   "execution_count": 30,
   "metadata": {},
   "outputs": [],
   "source": [
    "class NeuralNetwork:\n",
    "    def __init__(self, D):\n",
    "        eta = 0.1\n",
    "        self.W = tf.Variable(tf.random_normal(shape=(D,1)), name = 'w')\n",
    "        self.X = tf.placeholder(tf.float32, shape=(None,D), name = 'X')\n",
    "        self.Y = tf.placeholder(tf.float32, shape=(None,), name = 'Y')\n",
    "        # make prediction and cost\n",
    "        Y_hat = tf.reshape(tf.matmul(self.X, self.W),[-1])\n",
    "        err = self.Y - Y_hat\n",
    "        cost = tf.reduce_sum(tf.pow(err,2))\n",
    "        \n",
    "        # ops we want to call later\n",
    "        self.train_op = tf.train.GradientDescentOptimizer(eta).minimize(cost)\n",
    "        self.predict_op = Y_hat\n",
    "        \n",
    "        # start the session and initialize params\n",
    "        init = tf.global_variables_initializer()\n",
    "        self.session = tf.Session()\n",
    "        self.session.run(init)\n",
    "        \n",
    "    def train(self,X,Y):\n",
    "        self.session.run(self.train_op, feed_dict={self.X: X, self.Y: Y})\n",
    "        \n",
    "    def predict(self,X):\n",
    "        return self.session.run(self.predict_op, feed_dict={self.X:X})"
   ]
  },
  {
   "cell_type": "code",
   "execution_count": 31,
   "metadata": {},
   "outputs": [],
   "source": [
    "class Agent:\n",
    "    def __init__(self, env, feature_transformer):\n",
    "        self.env = env\n",
    "        self.agent = []\n",
    "        self.feature_transformer = feature_transformer\n",
    "        for i in range(env.action_space.n):\n",
    "            model = NeuralNetwork(feature_transformer.dimension)\n",
    "            self.agent.append(model)\n",
    "    def predict(self,s):\n",
    "        X = self.feature_transformer.transform([s])\n",
    "        return np.array([m.predict(X)[0] for m in self.agent])\n",
    "    def update(self, s, a, G):\n",
    "        X = self.feature_transformer.transform([s])\n",
    "        self.agent[a].train(X,[G])\n",
    "    def sample_action(self, s, eps):\n",
    "        if np.random.random() < eps:\n",
    "            return self.env.action_space.sample()\n",
    "        else:\n",
    "            return np.argmax(self.predict(s))"
   ]
  },
  {
   "cell_type": "code",
   "execution_count": 32,
   "metadata": {},
   "outputs": [],
   "source": [
    "def play_one(env, model, eps, gamma, render = False):\n",
    "    obs = env.reset()\n",
    "    done = False\n",
    "    totalreward = 0\n",
    "    iters = 0\n",
    "    while not done and iters < 2000:\n",
    "        action = model.sample_action(obs,eps)\n",
    "        prev_obs = obs\n",
    "        obs, reward, done, info = env.step(action)\n",
    "        if render:\n",
    "            env.render() # can comment it to speed up\n",
    "            time.sleep(0.2)\n",
    "    \n",
    "        if done:\n",
    "            reward = -400\n",
    "    \n",
    "        # update the model\n",
    "        next = model.predict(obs)\n",
    "        assert(len(next.shape) == 1)\n",
    "        G = reward + gamma*np.max(next)\n",
    "        model.update(prev_obs, action, G)\n",
    "        \n",
    "        if reward == 1:\n",
    "            totalreward += reward\n",
    "        iters += 1\n",
    "    return totalreward"
   ]
  },
  {
   "cell_type": "code",
   "execution_count": 33,
   "metadata": {},
   "outputs": [
    {
     "name": "stdout",
     "output_type": "stream",
     "text": [
      "[[0.05388231 0.81998153 0.99023772 0.36079256]\n",
      " [0.17621995 0.55423536 0.46080491 0.84550699]\n",
      " [0.01535213 0.19205934 0.62150365 0.89380494]\n",
      " ...\n",
      " [0.02218222 0.08083529 0.94189334 0.11511878]\n",
      " [0.81018605 0.70589996 0.32810758 0.35316399]\n",
      " [0.47229638 0.54172862 0.14913857 0.66063867]]\n",
      "(20000, 2000)\n",
      "episode: 0, total reward: 16.0 eps: 1.0 avg reward (last 100): 16.0\n",
      "episode: 100, total reward: 199.0 eps: 0.09950371902099892 avg reward (last 100): 124.08910891089108\n",
      "episode: 200, total reward: 199.0 eps: 0.07053456158585983 avg reward (last 100): 150.47524752475246\n",
      "episode: 300, total reward: 199.0 eps: 0.0576390417704235 avg reward (last 100): 169.12871287128712\n",
      "episode: 400, total reward: 140.0 eps: 0.04993761694389223 avg reward (last 100): 177.84158415841586\n",
      "episode: 500, total reward: 199.0 eps: 0.04467670516087703 avg reward (last 100): 183.77227722772278\n",
      "episode: 600, total reward: 177.0 eps: 0.04079085082240021 avg reward (last 100): 186.32673267326732\n",
      "episode: 700, total reward: 128.0 eps: 0.0377694787300249 avg reward (last 100): 184.7029702970297\n",
      "episode: 800, total reward: 199.0 eps: 0.03533326266687867 avg reward (last 100): 188.69306930693068\n",
      "episode: 900, total reward: 199.0 eps: 0.03331483023263848 avg reward (last 100): 187.44554455445544\n",
      "avg reward for last 100 episodes: 183.05\n",
      "total steps: 173466.0\n"
     ]
    },
    {
     "data": {
      "image/png": "[encoded data removed]",
      "text/plain": [
       "<Figure size 432x288 with 1 Axes>"
      ]
     },
     "metadata": {
      "needs_background": "light"
     },
     "output_type": "display_data"
    },
    {
     "data": {
      "image/png": "[encoded data removed]",
      "text/plain": [
       "<Figure size 432x288 with 1 Axes>"
      ]
     },
     "metadata": {
      "needs_background": "light"
     },
     "output_type": "display_data"
    }
   ],
   "source": [
    "# main function\n",
    "env_name = 'CartPole-v0'\n",
    "env = gym.make(env_name)\n",
    "ft = FeatureTransformer(env)\n",
    "agent = Agent(env, ft)\n",
    "gamma = 0.97\n",
    "\n",
    "N = 1000\n",
    "totalrewards = np.empty(N)\n",
    "running_avg = np.empty(N)\n",
    "for n in range(N):\n",
    "    eps = 1.0 / np.sqrt(n+1)\n",
    "    totalreward = play_one(env, agent, eps, gamma)\n",
    "    totalrewards[n] = totalreward\n",
    "    running_avg[n] = totalrewards[max(0, n-100):(n+1)].mean()\n",
    "    if n % 100 == 0:\n",
    "        print(\"episode: {0}, total reward: {1} eps: {2} avg reward (last 100): {3}\".format(n,totalreward,eps,running_avg[n]),)\n",
    "print(\"avg reward for last 100 episodes:\", totalrewards[-100:].mean())\n",
    "print(\"total steps:\", totalrewards.sum())\n",
    "\n",
    "plt.plot(totalrewards)\n",
    "plt.xlabel('episodes')\n",
    "plt.ylabel('Total Rewards')\n",
    "plt.show()\n",
    "\n",
    "plt.plot(running_avg)\n",
    "plt.xlabel('episodes')\n",
    "plt.ylabel('Running Average')\n",
    "plt.show()\n",
    "plt.close()"
   ]
  },
  {
   "cell_type": "code",
   "execution_count": 34,
   "metadata": {},
   "outputs": [
    {
     "data": {
      "text/plain": [
       "199.0"
      ]
     },
     "execution_count": 34,
     "metadata": {},
     "output_type": "execute_result"
    }
   ],
   "source": [
    "play_one(env, agent, 0, gamma, render = True)"
   ]
  },
  {
   "cell_type": "code",
   "execution_count": 35,
   "metadata": {},
   "outputs": [],
   "source": [
    "env.close()"
   ]
  },
  {
   "cell_type": "code",
   "execution_count": null,
   "metadata": {},
   "outputs": [],
   "source": []
  }
 ],
 "metadata": {
  "kernelspec": {
   "display_name": "Python 3",
   "language": "python",
   "name": "python3"
  },
  "language_info": {
   "codemirror_mode": {
    "name": "ipython",
    "version": 3
   },
   "file_extension": ".py",
   "mimetype": "text/x-python",
   "name": "python",
   "nbconvert_exporter": "python",
   "pygments_lexer": "ipython3",
   "version": "3.7.1"
  }
 },
 "nbformat": 4,
 "nbformat_minor": 2
}
