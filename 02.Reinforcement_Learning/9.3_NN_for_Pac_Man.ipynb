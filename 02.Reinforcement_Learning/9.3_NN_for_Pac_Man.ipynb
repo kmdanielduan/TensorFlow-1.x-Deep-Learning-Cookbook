{
 "cells": [
  {
   "cell_type": "markdown",
   "metadata": {},
   "source": [
    "## Neural Network Agent for Pac Man game\n",
    "We create a simple neural network agent for Pac Man game. We first initiate a set of random weights and bias and let it play, and choose the agent with the longest time.\n",
    "\n",
    "Here, the agents don't learn any policy, but relies on initial parameters to make actions(i.e. fixed policy). We use fully connected layers for this problem. The Pac Man has 9 actions -- wait, turn right, turn left, turn up, turn down, go left, go right, go up, go down. So in total, we have 9 output neurons."
   ]
  },
  {
   "cell_type": "code",
   "execution_count": 10,
   "metadata": {},
   "outputs": [],
   "source": [
    "import gym\n",
    "import numpy as np\n",
    "import tensorflow as tf\n",
    "import matplotlib.pyplot as plt\n",
    "import time"
   ]
  },
  {
   "cell_type": "code",
   "execution_count": 11,
   "metadata": {},
   "outputs": [],
   "source": [
    "# create a class called RlAgent\n",
    "class RlAgent:\n",
    "    def __init__(self,m,n,ini=False,W=None,b=None):\n",
    "        self._graph = tf.Graph()\n",
    "        with self._graph.as_default():\n",
    "            self._X = tf.placeholder(tf.float32,shape=(1,m))\n",
    "            if ini == False:\n",
    "                self.W = tf.Variable(tf.random_normal([m,n]),dtype=tf.float32,trainable=False)\n",
    "                self.bias = tf.Variable(tf.random_normal([1,n]),dtype=tf.float32,trainable=False)\n",
    "            else:\n",
    "                self.W = W.astype(np.float32)\n",
    "                self.bias = b.astype(np.float32)\n",
    "            out = tf.nn.sigmoid(tf.matmul(self._X,self.W)+self.bias)\n",
    "            self._result = tf.multinomial(out,1)\n",
    "            init = tf.global_variables_initializer()\n",
    "            self._sess = tf.Session()\n",
    "            self._sess.run(init)\n",
    "    def predict(self,X):\n",
    "        action = self._sess.run(self._result,feed_dict={self._X:X})\n",
    "        return action\n",
    "    def get_weights(self):\n",
    "        W, b = self._sess.run([self.W,self.bias])\n",
    "        return W, b"
   ]
  },
  {
   "cell_type": "code",
   "execution_count": 12,
   "metadata": {},
   "outputs": [],
   "source": [
    "# for every step the enviroment will return an observation\n",
    "# with 3 color channels, we preprocess the image by turning it \n",
    "# to grey scales and bring better contrast\n",
    "def preprocess_image(img):\n",
    "    img = img.mean(axis = 2) # to grayscale\n",
    "    img[img==150] = 0 # bring about a better contrast\n",
    "    img = (img-128)/128 - 1 # Normalize image from -1 to 1\n",
    "    m,n = img.shape\n",
    "    return img.reshape(1,m*n)"
   ]
  },
  {
   "cell_type": "code",
   "execution_count": 13,
   "metadata": {},
   "outputs": [],
   "source": [
    "# define the function play_one_episode to play a game\n",
    "def play_one_episode(env,agent,show=False):\n",
    "    obs = env.reset()\n",
    "    img_pre = preprocess_image(obs)\n",
    "    done = False\n",
    "    t = 0\n",
    "    while not done and t < 10000:\n",
    "        if show == True:\n",
    "            env.render()\n",
    "            time.sleep(0.1)\n",
    "        t += 1\n",
    "        action = agent.predict(img_pre)\n",
    "#         print(action)\n",
    "#         print(t,action)\n",
    "        obs, reward, done, info = env.step(action)\n",
    "        img_pre = preprocess_image(obs)\n",
    "        if done:\n",
    "            break\n",
    "    return t"
   ]
  },
  {
   "cell_type": "code",
   "execution_count": 14,
   "metadata": {},
   "outputs": [],
   "source": [
    "# define an agent with the function play_multiple_episodes,\n",
    "# let the agent play the game for multiple times and return \n",
    "# the average time\n",
    "def play_multiple_episodes(env, T, ini=False, W=None, b=None):\n",
    "    episode_lengths = np.empty(T)\n",
    "    obs = env.reset()\n",
    "    img_pre = preprocess_image(obs)\n",
    "    if ini == False:\n",
    "        agent = RlAgent(img_pre.shape[1],env.action_space.n)\n",
    "    else:\n",
    "        agent = RlAgent(img_pre.shape[1],env.action_space.n,ini,W,b)\n",
    "    for i in range(T):\n",
    "        episode_lengths[i] = play_one_episode(env,agent)\n",
    "    avg_length = episode_lengths.mean()\n",
    "    print('avg length:',avg_length)\n",
    "    if ini == False:\n",
    "        W, b = agent.get_weights()\n",
    "    return avg_length, W, b"
   ]
  },
  {
   "cell_type": "code",
   "execution_count": 15,
   "metadata": {},
   "outputs": [],
   "source": [
    "# random_search will call play_multiple_episodes, it will create\n",
    "# agents with random weights and bias every time, and choose the \n",
    "# best one as the winner\n",
    "def random_search(env):\n",
    "    episode_lengths = []\n",
    "    best = 0\n",
    "    for t in range(10):\n",
    "        print('Agent {} reporting'.format(t))\n",
    "        avg_length, wts, bias = play_multiple_episodes(env,10)\n",
    "        episode_lengths.append(avg_length)\n",
    "        if avg_length > best:\n",
    "            best_wt = wts\n",
    "            best_bias = bias\n",
    "            best = avg_length\n",
    "    return episode_lengths, best_wt, best_bias"
   ]
  },
  {
   "cell_type": "code",
   "execution_count": 16,
   "metadata": {},
   "outputs": [
    {
     "name": "stdout",
     "output_type": "stream",
     "text": [
      "Agent 0 reporting\n",
      "avg length: 608.9\n",
      "Agent 1 reporting\n",
      "avg length: 577.3\n",
      "Agent 2 reporting\n",
      "avg length: 653.4\n",
      "Agent 3 reporting\n",
      "avg length: 603.8\n",
      "Agent 4 reporting\n",
      "avg length: 691.9\n",
      "Agent 5 reporting\n",
      "avg length: 725.1\n",
      "Agent 6 reporting\n",
      "avg length: 694.2\n",
      "Agent 7 reporting\n",
      "avg length: 659.0\n",
      "Agent 8 reporting\n",
      "avg length: 764.5\n",
      "Agent 9 reporting\n",
      "avg length: 637.7\n"
     ]
    },
    {
     "data": {
      "image/png": "[encoded data removed]",
      "text/plain": [
       "<Figure size 432x288 with 1 Axes>"
      ]
     },
     "metadata": {
      "needs_background": "light"
     },
     "output_type": "display_data"
    },
    {
     "name": "stdout",
     "output_type": "stream",
     "text": [
      "Final Run with Best Agent\n",
      "avg length: 796.5\n"
     ]
    },
    {
     "data": {
      "text/plain": [
       "(796.5, array([[ 1.7645015 , -0.52955276, -0.43446308, ...,  1.390425  ,\n",
       "         -0.7595219 , -2.5636916 ],\n",
       "        [ 1.3779855 ,  1.2355689 , -0.5837271 , ...,  1.2850146 ,\n",
       "         -0.5818462 , -0.7745538 ],\n",
       "        [ 0.14610212,  0.67058617,  0.6360966 , ...,  0.1594488 ,\n",
       "          0.525913  , -0.56968075],\n",
       "        ...,\n",
       "        [-1.0270027 , -0.0709662 , -0.77339375, ..., -0.00806218,\n",
       "          0.17872494, -0.38287705],\n",
       "        [ 0.50199944,  0.23946403, -2.0853655 , ...,  1.7372761 ,\n",
       "          0.8750471 ,  0.31531203],\n",
       "        [ 1.2455478 , -1.604459  ,  1.4156984 , ..., -0.42228484,\n",
       "          0.60193825, -0.53378403]], dtype=float32), array([[-1.5721787 , -0.35665792, -0.31237945, -0.8790491 , -0.7511816 ,\n",
       "         -1.560725  ,  0.15768704,  0.8039726 , -0.50674605]],\n",
       "       dtype=float32))"
      ]
     },
     "execution_count": 16,
     "metadata": {},
     "output_type": "execute_result"
    }
   ],
   "source": [
    "# env_name = 'Breakout-v0'\n",
    "env_name = 'MsPacman-v0'\n",
    "env = gym.make(env_name)\n",
    "episode_lengths, W, b = random_search(env)\n",
    "plt.plot(episode_lengths)\n",
    "plt.show()\n",
    "print('Final Run with Best Agent')\n",
    "# print(W.shape,b.shape)\n",
    "# print(W,b)\n",
    "play_multiple_episodes(env,10, ini=True,W=W,b=b)"
   ]
  },
  {
   "cell_type": "code",
   "execution_count": 17,
   "metadata": {},
   "outputs": [
    {
     "data": {
      "text/plain": [
       "861"
      ]
     },
     "execution_count": 17,
     "metadata": {},
     "output_type": "execute_result"
    }
   ],
   "source": [
    "obs = env.reset()\n",
    "img_pre = preprocess_image(obs)\n",
    "agent = RlAgent(img_pre.shape[1],env.action_space.n,True,W,b)\n",
    "play_one_episode(env,agent,show=True)"
   ]
  },
  {
   "cell_type": "code",
   "execution_count": 18,
   "metadata": {},
   "outputs": [],
   "source": [
    "env.close()"
   ]
  }
 ],
 "metadata": {
  "kernelspec": {
   "display_name": "Python 3",
   "language": "python",
   "name": "python3"
  },
  "language_info": {
   "codemirror_mode": {
    "name": "ipython",
    "version": 3
   },
   "file_extension": ".py",
   "mimetype": "text/x-python",
   "name": "python",
   "nbconvert_exporter": "python",
   "pygments_lexer": "ipython3",
   "version": "3.7.1"
  }
 },
 "nbformat": 4,
 "nbformat_minor": 2
}
